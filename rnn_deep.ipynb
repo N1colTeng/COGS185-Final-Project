{
 "cells": [
  {
   "cell_type": "code",
   "execution_count": 1,
   "metadata": {
    "ExecuteTime": {
     "end_time": "2019-05-14T23:57:20.051203Z",
     "start_time": "2019-05-14T23:57:19.626384Z"
    }
   },
   "outputs": [],
   "source": [
    "import string\n",
    "import random\n",
    "import torch\n",
    "import torch.nn as nn\n",
    "import matplotlib.pyplot as plt"
   ]
  },
  {
   "cell_type": "markdown",
   "metadata": {},
   "source": [
    "#### Prepare for Dataset"
   ]
  },
  {
   "cell_type": "code",
   "execution_count": 2,
   "metadata": {
    "ExecuteTime": {
     "end_time": "2019-05-14T23:57:20.060842Z",
     "start_time": "2019-05-14T23:57:20.053165Z"
    }
   },
   "outputs": [
    {
     "name": "stdout",
     "output_type": "stream",
     "text": [
      "Length of file: 1115393\n",
      "All possible characters: 0123456789abcdefghijklmnopqrstuvwxyzABCDEFGHIJKLMNOPQRSTUVWXYZ!\"#$%&'()*+,-./:;<=>?@[\\]^_`{|}~ \t\n",
      "\r",
      "\u000b",
      "\f",
      "\n",
      "Number of all possible characters: 100\n"
     ]
    }
   ],
   "source": [
    "all_chars       = string.printable\n",
    "n_chars         = len(all_chars)\n",
    "file            = open('./shakespeare.txt').read()\n",
    "file_len        = len(file)\n",
    "\n",
    "print('Length of file: {}'.format(file_len))\n",
    "print('All possible characters: {}'.format(all_chars))\n",
    "print('Number of all possible characters: {}'.format(n_chars))"
   ]
  },
  {
   "cell_type": "code",
   "execution_count": 3,
   "metadata": {
    "ExecuteTime": {
     "end_time": "2019-05-14T23:57:20.077596Z",
     "start_time": "2019-05-14T23:57:20.064808Z"
    }
   },
   "outputs": [],
   "source": [
    "# Get a random sequence of the Shakespeare dataset.\n",
    "def get_random_seq():\n",
    "    seq_len     = 128  # The length of an input sequence.\n",
    "    start_index = random.randint(0, file_len - seq_len)\n",
    "    end_index   = start_index + seq_len + 1\n",
    "    return file[start_index:end_index]\n",
    "\n",
    "# Convert the sequence to one-hot tensor.\n",
    "def seq_to_onehot(seq):\n",
    "    tensor = torch.zeros(len(seq), 1, n_chars) \n",
    "    # Shape of the tensor:\n",
    "    #     (sequence length, batch size, classes)\n",
    "    # Here we use batch size = 1 and classes = number of unique characters.\n",
    "    for t, char in enumerate(seq):\n",
    "        index = all_chars.index(char)\n",
    "        tensor[t][0][index] = 1\n",
    "    return tensor\n",
    "\n",
    "# Convert the sequence to index tensor.\n",
    "def seq_to_index(seq):\n",
    "    tensor = torch.zeros(len(seq), 1)\n",
    "    # Shape of the tensor: \n",
    "    #     (sequence length, batch size).\n",
    "    # Here we use batch size = 1.\n",
    "    for t, char in enumerate(seq):\n",
    "        tensor[t] = all_chars.index(char)\n",
    "    return tensor\n",
    "\n",
    "# Sample a mini-batch including input tensor and target tensor.\n",
    "def get_input_and_target():\n",
    "    seq    = get_random_seq()\n",
    "    input  = seq_to_onehot(seq[:-1])      # Input is represented in one-hot.\n",
    "    target = seq_to_index(seq[1:]).long() # Target is represented in index.\n",
    "    return input, target"
   ]
  },
  {
   "cell_type": "markdown",
   "metadata": {},
   "source": [
    "#### Choose a Device"
   ]
  },
  {
   "cell_type": "code",
   "execution_count": 4,
   "metadata": {
    "ExecuteTime": {
     "end_time": "2019-05-14T23:57:20.129301Z",
     "start_time": "2019-05-14T23:57:20.081156Z"
    }
   },
   "outputs": [
    {
     "name": "stdout",
     "output_type": "stream",
     "text": [
      "cpu\n"
     ]
    }
   ],
   "source": [
    "# If there are GPUs, choose the first one for computing. Otherwise use CPU.\n",
    "device = torch.device(\"cuda:0\" if torch.cuda.is_available() else \"cpu\")\n",
    "print(device)  \n",
    "# If 'cuda:0' is printed, it means GPU is available."
   ]
  },
  {
   "cell_type": "markdown",
   "metadata": {},
   "source": [
    "#### Network Definition"
   ]
  },
  {
   "cell_type": "code",
   "execution_count": 5,
   "metadata": {
    "ExecuteTime": {
     "end_time": "2019-05-14T23:57:22.437344Z",
     "start_time": "2019-05-14T23:57:20.131573Z"
    }
   },
   "outputs": [
    {
     "data": {
      "text/plain": [
       "Net(\n",
       "  (rnn): RNN(100, 100, num_layers=2)\n",
       "  (fc): Linear(in_features=100, out_features=100, bias=True)\n",
       ")"
      ]
     },
     "execution_count": 5,
     "metadata": {},
     "output_type": "execute_result"
    }
   ],
   "source": [
    "class Net(nn.Module):\n",
    "    def __init__(self):\n",
    "        # Initialization.\n",
    "        super(Net, self).__init__()\n",
    "        self.input_size  = n_chars   # Input size: Number of unique chars.\n",
    "        self.hidden_size = 100       # Hidden size: 100.\n",
    "        self.output_size = n_chars   # Output size: Number of unique chars.\n",
    "        self.num_layers = 2\n",
    "        \n",
    "        self.rnn = nn.RNN(self.input_size, self.hidden_size, self.num_layers)\n",
    "        self.fc = nn.Linear(self.hidden_size, self.output_size)\n",
    "    \n",
    "    def forward(self, input, hidden):\n",
    "        \"\"\" Forward function.\n",
    "              input:  One-hot input. It refers to the x_t in homework write-up.\n",
    "              hidden: Previous hidden state. It refers to the h_{t-1}.\n",
    "            Returns (output, hidden) where output refers to y_t and \n",
    "                     hidden refers to h_t.\n",
    "        \"\"\"\n",
    "        # Forward function.\n",
    "        output, hidden = self.rnn(input, hidden)\n",
    "        output = self.fc(output)\n",
    "        \n",
    "        return output, hidden\n",
    "\n",
    "\n",
    "    def init_hidden(self):\n",
    "        # Initial hidden state.\n",
    "        # 1 means batch size = 1.\n",
    "        return torch.zeros(self.num_layers, self.hidden_size).to(device) \n",
    "    \n",
    "net = Net()     # Create the network instance.\n",
    "net.to(device)  # Move the network parameters to the specified device."
   ]
  },
  {
   "cell_type": "markdown",
   "metadata": {},
   "source": [
    "#### Training Step and Evaluation Step"
   ]
  },
  {
   "cell_type": "code",
   "execution_count": 6,
   "metadata": {
    "ExecuteTime": {
     "end_time": "2019-05-14T23:57:22.449539Z",
     "start_time": "2019-05-14T23:57:22.440333Z"
    }
   },
   "outputs": [],
   "source": [
    "# Training step function.\n",
    "def train_step(net, opt, input, target):\n",
    "    \"\"\" Training step.\n",
    "        net:    The network instance.\n",
    "        opt:    The optimizer instance.\n",
    "        input:  Input tensor.  Shape: [seq_len, 1, n_chars].\n",
    "        target: Target tensor. Shape: [seq_len, 1].\n",
    "    \"\"\"\n",
    "    seq_len = input.shape[0]    # Get the sequence length of current input.\n",
    "    hidden = net.init_hidden()  # Initial hidden state.\n",
    "    net.zero_grad()             # Clear the gradient.\n",
    "    loss = 0                    # Initial loss.\n",
    "\n",
    "    for t in range(seq_len):    # For each one in the input sequence.\n",
    "        output, hidden = net(input[t], hidden)\n",
    "        loss += loss_func(output, target[t])\n",
    "\n",
    "    loss.backward()             # Backward. \n",
    "    opt.step()                  # Update the weights.\n",
    "\n",
    "    return loss / seq_len       # Return the average loss w.r.t sequence length."
   ]
  },
  {
   "cell_type": "code",
   "execution_count": 7,
   "metadata": {
    "ExecuteTime": {
     "end_time": "2019-05-15T03:10:36.378318Z",
     "start_time": "2019-05-15T03:10:36.366394Z"
    }
   },
   "outputs": [],
   "source": [
    "# Evaluation step function.\n",
    "def eval_step(net, init_seq='W', predicted_len=100):\n",
    "    # Initialize the hidden state, input and the predicted sequence.\n",
    "    hidden        = net.init_hidden()\n",
    "    init_input    = seq_to_onehot(init_seq).to(device)\n",
    "    predicted_seq = init_seq\n",
    "\n",
    "    # Use initial string to \"build up\" hidden state.\n",
    "    for t in range(len(init_seq) - 1):\n",
    "        output, hidden = net(init_input[t], hidden)\n",
    "        \n",
    "    # Set current input as the last character of the initial string.\n",
    "    input = init_input[-1]\n",
    "    \n",
    "    # Predict more characters after the initial string.\n",
    "    for t in range(predicted_len):\n",
    "        # Get the current output and hidden state.\n",
    "        output, hidden = net(input, hidden)\n",
    "        \n",
    "        # Sample from the output as a multinomial distribution.\n",
    "        predicted_index = torch.multinomial(output.view(-1).exp(), 1)[0]\n",
    "        \n",
    "        # Add predicted character to the sequence and use it as next input.\n",
    "        predicted_char  = all_chars[predicted_index]\n",
    "        predicted_seq  += predicted_char\n",
    "        \n",
    "        # Use the predicted character to generate the input of next round.\n",
    "        input = seq_to_onehot(predicted_char)[0].to(device)\n",
    "\n",
    "    return predicted_seq"
   ]
  },
  {
   "cell_type": "markdown",
   "metadata": {},
   "source": [
    "#### Training Procedure"
   ]
  },
  {
   "cell_type": "code",
   "execution_count": 8,
   "metadata": {
    "ExecuteTime": {
     "end_time": "2019-05-15T00:38:13.556497Z",
     "start_time": "2019-05-14T23:57:22.478732Z"
    },
    "scrolled": true
   },
   "outputs": [
    {
     "name": "stdout",
     "output_type": "stream",
     "text": [
      "iter:999/20000 loss:2.7994253635406494\n",
      "generated sequence: WHRELESSRS:\n",
      "Hend'shon lo-ctele beoblhe taress, he brabky, sore.\n",
      "\n",
      "SOS AThenlblave bromeiek yre and:\n",
      "Fe\n",
      "\n",
      "iter:1999/20000 loss:2.240631103515625\n",
      "generated sequence: WERRILOSRILEP:\n",
      "\n",
      "GALIOSSERERISIEUME:\n",
      "Sord thervent-finger,\n",
      "Vord till bare thak fritee ape\n",
      "Haren mot ip\n",
      "\n",
      "iter:2999/20000 loss:2.142307758331299\n",
      "generated sequence: Wheme the speapu qfepane satiicuw bessitore not nlant me ang has'foee the envenss\n",
      "Weence\n",
      "This then le\n",
      "\n",
      "iter:3999/20000 loss:2.0752429962158203\n",
      "generated sequence: With is condte kit then fayvon\n",
      "ve at to in fee, then this On mister that muar: abeens exte your thig \n",
      "\n",
      "iter:4999/20000 loss:2.05731201171875\n",
      "generated sequence: Whastrongly'nt ust Mesalk e the vearg and thy gjeid's this lothelle, we fo thostly't stier touttey,--\n",
      "\n",
      "iter:5999/20000 loss:2.029465913772583\n",
      "generated sequence: Wours, mapt not to thito.\n",
      "\n",
      "CICHARD\n",
      "SI HANSIO:\n",
      "\n",
      "BICUSIS:\n",
      "To trew like\n",
      "Ford of doth Have houth will kia\n",
      "\n",
      "iter:6999/20000 loss:2.022282600402832\n",
      "generated sequence: WARDHEO:\n",
      "I to skall hich us\n",
      "Orend that sprant all dowh ve and not thin at filless so you not woubon\n",
      "W\n",
      "\n",
      "iter:7999/20000 loss:2.0029098987579346\n",
      "generated sequence: WALF:\n",
      "I pre meaven pore have shouns; their not soul's pact cece, by emt them he cenot no my cuch his \n",
      "\n",
      "iter:8999/20000 loss:1.9893161058425903\n",
      "generated sequence: Warlysy kome that I cousil on! your tome\n",
      "Oner coilst o' treas, and hack thouches; ancy, and consuuch \n",
      "\n",
      "iter:9999/20000 loss:1.9820610284805298\n",
      "generated sequence: Was inn'swtinter, in Sigh:\n",
      "If dore Fires\n",
      "Bet'se lordly'd:\n",
      "Weress woirs;\n",
      "Uake sive,\n",
      "Ard froure his to \n",
      "\n",
      "iter:10999/20000 loss:1.9860869646072388\n",
      "generated sequence: Wimlichs yet what than det cills still hearns'ss'rn po pow bearlateng goachtert to takes so me all to\n",
      "\n",
      "iter:11999/20000 loss:1.984694004058838\n",
      "generated sequence: Whounds orcand of it and frie the know witl I corchocomy-wroth\n",
      "as is hi:\n",
      "Wimbon, ourss his all, brown\n",
      "\n",
      "iter:12999/20000 loss:2.0002739429473877\n",
      "generated sequence: Wherobless nevereld us in\n",
      "woos mamile. Y mivont.\n",
      "An of ever, was vind-are thid this rither-kerlines n\n",
      "\n",
      "iter:13999/20000 loss:1.9755791425704956\n",
      "generated sequence: Where'd resnet batk timeaw cons prove:\n",
      "Thou sperbut ut count dred there visire when Henelr he well ca\n",
      "\n",
      "iter:14999/20000 loss:1.9879664182662964\n",
      "generated sequence: We what dave:\n",
      "Nhoy?-\n",
      "RERGSAMER:\n",
      "It, hount them sommer-deamw and and but rreads me cull brothunio,\n",
      "At \n",
      "\n",
      "iter:15999/20000 loss:2.002797842025757\n",
      "generated sequence: Whush'd's now plow:\n",
      "I drust.\n",
      "Khent he wors. No wit the wheut a shis twiscightinds will got shall weot\n",
      "\n",
      "iter:16999/20000 loss:1.987098217010498\n",
      "generated sequence: Wall he dith sugeeds yound sho:-en, wurk yount'te emprours\n",
      "And sughes mour as nobr. Whey,\n",
      "And sur hiv\n",
      "\n",
      "iter:17999/20000 loss:2.059354305267334\n",
      "generated sequence: Whey worne forrels the wavisabkeay,\n",
      "Thour good Pecaem saunys postiol! wisery,--Ant san.\n",
      "\n",
      "DANIO:\n",
      "RWICh\n",
      "\n",
      "iter:18999/20000 loss:2.136521577835083\n",
      "generated sequence: Whrpe.\n",
      "\n",
      "BOELIZIZESTORS:\n",
      "Hors\n",
      "That, steeton.\n",
      "\n",
      "MEco plove thom breal sterps she vor chear my shather mi\n",
      "\n",
      "iter:19999/20000 loss:2.5375256538391113\n",
      "generated sequence: Whe non: a toretder in gegew yourppmesenimc eaberellew:\n",
      "Nien\n",
      "Lowining.\n",
      "\n",
      "GOO:\n",
      "\n",
      "ROMOD I Go derd\n",
      "On.\n",
      "do \n",
      "\n"
     ]
    }
   ],
   "source": [
    "# Number of iterations.\n",
    "iters       = 20000  # Number of training iterations.\n",
    "print_iters = 1000    # Number of iterations for each log printing.\n",
    "\n",
    "# The loss variables.\n",
    "all_losses = []\n",
    "loss_sum   = 0\n",
    "\n",
    "# Initialize the optimizer and the loss function.\n",
    "opt       = torch.optim.Adam(net.parameters(), lr=0.005)\n",
    "loss_func = nn.CrossEntropyLoss()\n",
    "\n",
    "# Training procedure.\n",
    "for i in range(iters):\n",
    "    input, target = get_input_and_target()            # Fetch input and target.\n",
    "    input, target = input.to(device), target.to(device) # Move to GPU memory.\n",
    "    loss      = train_step(net, opt, input, target)   # Calculate the loss.\n",
    "    loss_sum += loss                                  # Accumulate the loss.\n",
    "\n",
    "    # Print the log.\n",
    "    if i % print_iters == print_iters - 1:\n",
    "        print('iter:{}/{} loss:{}'.format(i, iters, loss_sum / print_iters))\n",
    "        print('generated sequence: {}\\n'.format(eval_step(net)))\n",
    "              \n",
    "        # Track the loss.\n",
    "        all_losses.append(loss_sum / print_iters)\n",
    "        loss_sum = 0"
   ]
  },
  {
   "cell_type": "markdown",
   "metadata": {},
   "source": [
    "#### Training Loss Curve"
   ]
  },
  {
   "cell_type": "code",
   "execution_count": 9,
   "metadata": {
    "ExecuteTime": {
     "end_time": "2019-05-15T00:38:13.728474Z",
     "start_time": "2019-05-15T00:38:13.559531Z"
    }
   },
   "outputs": [
    {
     "data": {
      "image/png": "[encoded data removed]",
      "text/plain": [
       "<Figure size 640x480 with 1 Axes>"
      ]
     },
     "metadata": {},
     "output_type": "display_data"
    }
   ],
   "source": [
    "plt.xlabel('iters')\n",
    "plt.ylabel('loss')\n",
    "plt.plot([loss.item() for loss in all_losses])\n",
    "plt.show()"
   ]
  },
  {
   "cell_type": "markdown",
   "metadata": {},
   "source": [
    "#### Evaluation: A Sample of Generated Sequence"
   ]
  },
  {
   "cell_type": "code",
   "execution_count": 10,
   "metadata": {
    "ExecuteTime": {
     "end_time": "2019-05-15T03:10:52.267837Z",
     "start_time": "2019-05-15T03:10:51.986701Z"
    },
    "scrolled": true
   },
   "outputs": [
    {
     "name": "stdout",
     "output_type": "stream",
     "text": [
      "Wham hime me eand swepesils me dran in dof mise ye fasere amy thaidt fhapher':\n",
      "Nowet ma'talf dheedeed then'cosbe the bare dang bes neere all lere me in be?cr\n",
      "Heoridh mr wheirs wive Namr\n",
      "Fore whear:\n",
      "Hear',\n",
      "HiU:\n",
      "RUakahenen\n",
      "MretAmist yoe Seisp bretit yeme!\n",
      "Tord domimer Ve on my the wigaou; you spoind ye be hey weacin.\n",
      "\n",
      "\n",
      "O:\n",
      "Thacfs rerward.\n",
      "\n",
      "GoR:\n",
      "He be asdirapher sot abes? if mave in ann caemesors.\n",
      "\n",
      "sours?\n",
      "\n",
      "GOKo Vofe ifd llere,\n",
      "OF:rtrebt':\n",
      "NtIO:\n",
      "Beltire trere hee! me vame shime 'sed is be mfic brow ifolaky sorsered redeen eef edepe bribudl:\n",
      "Ds.\n",
      "\n",
      "KTRFlENS:\n",
      "Totsen toft do baull I ane faber werath;\n",
      "Kre\n"
     ]
    }
   ],
   "source": [
    "print(eval_step(net, predicted_len=600))"
   ]
  }
 ],
 "metadata": {
  "kernelspec": {
   "display_name": "Python 3 (ipykernel)",
   "language": "python",
   "name": "python3"
  },
  "language_info": {
   "codemirror_mode": {
    "name": "ipython",
    "version": 3
   },
   "file_extension": ".py",
   "mimetype": "text/x-python",
   "name": "python",
   "nbconvert_exporter": "python",
   "pygments_lexer": "ipython3",
   "version": "3.10.10"
  },
  "toc": {
   "base_numbering": 1,
   "nav_menu": {},
   "number_sections": true,
   "sideBar": true,
   "skip_h1_title": false,
   "title_cell": "Table of Contents",
   "title_sidebar": "Contents",
   "toc_cell": false,
   "toc_position": {},
   "toc_section_display": true,
   "toc_window_display": false
  }
 },
 "nbformat": 4,
 "nbformat_minor": 1
}
